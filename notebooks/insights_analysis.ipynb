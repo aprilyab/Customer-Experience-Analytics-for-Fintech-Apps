{
 "cells": [
  {
   "cell_type": "code",
   "execution_count": 5,
   "id": "f58be83f",
   "metadata": {},
   "outputs": [],
   "source": [
    "import pandas as pd\n",
    "from sklearn.feature_extraction.text import TfidfVectorizer"
   ]
  },
  {
   "cell_type": "code",
   "execution_count": 3,
   "id": "da785f8c",
   "metadata": {},
   "outputs": [],
   "source": [
    "df = pd.read_csv(\"../data/processed/final_bank_apps_review_data.csv\")"
   ]
  },
  {
   "cell_type": "markdown",
   "id": "f3142714",
   "metadata": {},
   "source": [
    "## Identify drivers and pain points"
   ]
  },
  {
   "cell_type": "code",
   "execution_count": 7,
   "id": "8c72ac1b",
   "metadata": {},
   "outputs": [],
   "source": [
    "# Positive drivers\n",
    "drivers_keywords = ['fast', 'easy', 'smooth', 'reliable', 'secure', 'userfriendly', 'good', 'excellent']\n",
    "\n",
    "# Negative pain points\n",
    "pain_keywords = ['crash', 'slow', 'error', 'problem', 'bug', 'dont', 'doesnt', 'cant', 'worst', 'issue']\n"
   ]
  },
  {
   "cell_type": "markdown",
   "id": "fbfd4c37",
   "metadata": {},
   "source": [
    "## Count mentions per bank"
   ]
  },
  {
   "cell_type": "code",
   "execution_count": 8,
   "id": "b4b0e921",
   "metadata": {},
   "outputs": [
    {
     "name": "stdout",
     "output_type": "stream",
     "text": [
      "Drivers count per bank: {'Commercial Bank of Ethiopia': 81, 'Bank of Abyssinia': 45, 'Dashen Bank': 112}\n",
      "Pain points count per bank: {'Commercial Bank of Ethiopia': 34, 'Bank of Abyssinia': 88, 'Dashen Bank': 37}\n"
     ]
    }
   ],
   "source": [
    "drivers_count = {}\n",
    "pain_count = {}\n",
    "\n",
    "for bank in df['bank'].unique():\n",
    "    bank_reviews = df[df['bank'] == bank]['processed_review'].astype(str)\n",
    "    \n",
    "    # Count drivers\n",
    "    drivers_count[bank] = sum(bank_reviews.str.contains('|'.join(drivers_keywords), case=False))\n",
    "    \n",
    "    # Count pain points\n",
    "    pain_count[bank] = sum(bank_reviews.str.contains('|'.join(pain_keywords), case=False))\n",
    "\n",
    "print(\"Drivers count per bank:\", drivers_count)\n",
    "print(\"Pain points count per bank:\", pain_count)\n"
   ]
  },
  {
   "cell_type": "markdown",
   "id": "8041aa9b",
   "metadata": {},
   "source": [
    "## Compare banks by average rating"
   ]
  },
  {
   "cell_type": "code",
   "execution_count": 9,
   "id": "9a70f1ef",
   "metadata": {},
   "outputs": [
    {
     "name": "stdout",
     "output_type": "stream",
     "text": [
      "bank\n",
      "Dashen Bank                    4.243077\n",
      "Commercial Bank of Ethiopia    3.956113\n",
      "Bank of Abyssinia              2.984615\n",
      "Name: rating, dtype: float64\n"
     ]
    }
   ],
   "source": [
    "avg_rating = df.groupby('bank')['rating'].mean().sort_values(ascending=False)\n",
    "print(avg_rating)\n"
   ]
  }
 ],
 "metadata": {
  "kernelspec": {
   "display_name": "Python 3",
   "language": "python",
   "name": "python3"
  },
  "language_info": {
   "codemirror_mode": {
    "name": "ipython",
    "version": 3
   },
   "file_extension": ".py",
   "mimetype": "text/x-python",
   "name": "python",
   "nbconvert_exporter": "python",
   "pygments_lexer": "ipython3",
   "version": "3.13.3"
  }
 },
 "nbformat": 4,
 "nbformat_minor": 5
}
